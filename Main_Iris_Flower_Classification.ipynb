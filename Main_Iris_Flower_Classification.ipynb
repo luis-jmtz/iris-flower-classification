{
 "cells": [
  {
   "cell_type": "code",
   "execution_count": null,
   "id": "452327ef-58da-42bd-9518-e0666597b24e",
   "metadata": {},
   "outputs": [],
   "source": [
    "import numpy as np\n",
    "import pandas as pd\n",
    "import matplotlib as plt\n",
    "import sklearn\n",
    "import seaborn as sns\n",
    "from sklearn.preprocessing import LabelEncoder"
   ]
  },
  {
   "cell_type": "code",
   "execution_count": null,
   "id": "7a08c781-c0c1-42d0-91b8-199cb5efe136",
   "metadata": {},
   "outputs": [],
   "source": [
    "path= r\"D:\\ML Data\\Iris_Data\\Iris.csv\" #may change depending on device usage\n",
    "df = pd.read_csv(path)"
   ]
  },
  {
   "cell_type": "code",
   "execution_count": null,
   "id": "d37c71f8-d518-467d-9c81-9a21707d45de",
   "metadata": {
    "scrolled": true
   },
   "outputs": [],
   "source": [
    "# df.head"
   ]
  },
  {
   "cell_type": "code",
   "execution_count": null,
   "id": "8a629464-8190-42bc-9224-359b2dd1a7b3",
   "metadata": {},
   "outputs": [],
   "source": [
    "df.shape\n",
    "df.info()\n",
    "df.describe()\n",
    "df['Species'].value_counts()\n",
    "df.isnull().sum()"
   ]
  },
  {
   "cell_type": "code",
   "execution_count": null,
   "id": "f4839afa-58c3-4e2e-9094-89cbcc45695b",
   "metadata": {},
   "outputs": [],
   "source": [
    "# sns.pairplot(df, hue='Species')"
   ]
  },
  {
   "cell_type": "code",
   "execution_count": null,
   "id": "0033b2be-8390-4bc5-baab-eccd6ebab9f0",
   "metadata": {},
   "outputs": [],
   "source": []
  }
 ],
 "metadata": {
  "kernelspec": {
   "display_name": "Python [conda env:base] *",
   "language": "python",
   "name": "conda-base-py"
  },
  "language_info": {
   "codemirror_mode": {
    "name": "ipython",
    "version": 3
   },
   "file_extension": ".py",
   "mimetype": "text/x-python",
   "name": "python",
   "nbconvert_exporter": "python",
   "pygments_lexer": "ipython3",
   "version": "3.12.7"
  }
 },
 "nbformat": 4,
 "nbformat_minor": 5
}
