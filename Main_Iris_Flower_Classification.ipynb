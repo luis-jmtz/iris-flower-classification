{
 "cells": [
  {
   "cell_type": "code",
   "execution_count": 1,
   "id": "452327ef-58da-42bd-9518-e0666597b24e",
   "metadata": {},
   "outputs": [],
   "source": [
    "import numpy as np\n",
    "import pandas as pd\n",
    "import matplotlib as plt\n",
    "import sklearn\n",
    "import seaborn as sns\n",
    "from sklearn.preprocessing import LabelEncoder\n",
    "from sklearn.model_selection import train_test_split"
   ]
  },
  {
   "cell_type": "code",
   "execution_count": 2,
   "id": "7a08c781-c0c1-42d0-91b8-199cb5efe136",
   "metadata": {},
   "outputs": [],
   "source": [
    "path= r\"D:\\ML Data\\Iris_Data\\Iris.csv\" #may change depending on device usage\n",
    "df = pd.read_csv(path)"
   ]
  },
  {
   "cell_type": "code",
   "execution_count": 3,
   "id": "d37c71f8-d518-467d-9c81-9a21707d45de",
   "metadata": {
    "scrolled": true
   },
   "outputs": [],
   "source": [
    "# df.head"
   ]
  },
  {
   "cell_type": "code",
   "execution_count": 4,
   "id": "8a629464-8190-42bc-9224-359b2dd1a7b3",
   "metadata": {
    "scrolled": true
   },
   "outputs": [
    {
     "name": "stdout",
     "output_type": "stream",
     "text": [
      "<class 'pandas.core.frame.DataFrame'>\n",
      "RangeIndex: 150 entries, 0 to 149\n",
      "Data columns (total 6 columns):\n",
      " #   Column         Non-Null Count  Dtype  \n",
      "---  ------         --------------  -----  \n",
      " 0   Id             150 non-null    int64  \n",
      " 1   SepalLengthCm  150 non-null    float64\n",
      " 2   SepalWidthCm   150 non-null    float64\n",
      " 3   PetalLengthCm  150 non-null    float64\n",
      " 4   PetalWidthCm   150 non-null    float64\n",
      " 5   Species        150 non-null    object \n",
      "dtypes: float64(4), int64(1), object(1)\n",
      "memory usage: 7.2+ KB\n"
     ]
    },
    {
     "data": {
      "text/plain": [
       "Id               0\n",
       "SepalLengthCm    0\n",
       "SepalWidthCm     0\n",
       "PetalLengthCm    0\n",
       "PetalWidthCm     0\n",
       "Species          0\n",
       "dtype: int64"
      ]
     },
     "execution_count": 4,
     "metadata": {},
     "output_type": "execute_result"
    }
   ],
   "source": [
    "df.shape\n",
    "df.info()\n",
    "df.describe()\n",
    "df['Species'].value_counts()\n",
    "df.isnull().sum()"
   ]
  },
  {
   "cell_type": "code",
   "execution_count": 5,
   "id": "f4839afa-58c3-4e2e-9094-89cbcc45695b",
   "metadata": {},
   "outputs": [],
   "source": [
    "# sns.pairplot(df, hue='Species')"
   ]
  },
  {
   "cell_type": "code",
   "execution_count": 6,
   "id": "0033b2be-8390-4bc5-baab-eccd6ebab9f0",
   "metadata": {},
   "outputs": [],
   "source": [
    "#label encoding for good practice and speed\n",
    "label_encoder = LabelEncoder()\n",
    "\n",
    "# Fit and transform the target column\n",
    "df['species_encoded'] = label_encoder.fit_transform(df['Species'])"
   ]
  },
  {
   "cell_type": "code",
   "execution_count": 7,
   "id": "ac297611-1456-4bc2-9c55-5b30da3e34f0",
   "metadata": {},
   "outputs": [
    {
     "name": "stdout",
     "output_type": "stream",
     "text": [
      "Encoded Classes: ['Iris-setosa' 'Iris-versicolor' 'Iris-virginica']\n",
      "Encoded Values: [0 1 2]\n"
     ]
    }
   ],
   "source": [
    "# Check the mapping\n",
    "print(\"Encoded Classes:\", label_encoder.classes_)\n",
    "print(\"Encoded Values:\", df['species_encoded'].unique())"
   ]
  },
  {
   "cell_type": "code",
   "execution_count": 10,
   "id": "0fd56ce2-6d44-432a-bacb-6ea466c2c34c",
   "metadata": {},
   "outputs": [],
   "source": [
    "# Define features (X) and target (y)\n",
    "X = df[['SepalLengthCm', 'SepalWidthCm', 'PetalLengthCm', 'PetalWidthCm']]\n",
    "y = df['species_encoded']\n",
    "\n",
    "# Split the data\n",
    "X_train, X_test, y_train, y_test = train_test_split(X, y, test_size=0.2, random_state=42)"
   ]
  }
 ],
 "metadata": {
  "kernelspec": {
   "display_name": "Python [conda env:base] *",
   "language": "python",
   "name": "conda-base-py"
  },
  "language_info": {
   "codemirror_mode": {
    "name": "ipython",
    "version": 3
   },
   "file_extension": ".py",
   "mimetype": "text/x-python",
   "name": "python",
   "nbconvert_exporter": "python",
   "pygments_lexer": "ipython3",
   "version": "3.12.7"
  }
 },
 "nbformat": 4,
 "nbformat_minor": 5
}
